{
 "cells": [
  {
   "cell_type": "code",
   "execution_count": null,
   "metadata": {},
   "outputs": [],
   "source": [
    "from google.colab import drive\n",
    "drive.mount('/content/gdrive')"
   ]
  },
  {
   "cell_type": "code",
   "execution_count": null,
   "metadata": {},
   "outputs": [],
   "source": [
    "import os\n",
    "\n",
    "data_dir = '../data/'\n",
    "models_directory = '../finetuned_models'\n"
   ]
  },
  {
   "cell_type": "code",
   "execution_count": null,
   "metadata": {},
   "outputs": [],
   "source": [
    "%cd gdrive/My Drive/thesis-master/src"
   ]
  },
  {
   "cell_type": "code",
   "execution_count": null,
   "metadata": {},
   "outputs": [],
   "source": [
    "!pip install transformers\n",
    "!pip install accelerate\n",
    "!pip install datasets\n",
    "!pip install rouge_score\n",
    "!pip install bert_score"
   ]
  },
  {
   "cell_type": "code",
   "execution_count": 1,
   "metadata": {},
   "outputs": [],
   "source": [
    "def run(quality, perspective=None):\n",
    "    quantities = ['All', 'Half', 'One', 'Shared']\n",
    "    for quantity in quantities:\n",
    "        #Comb doesn't have shared\n",
    "        if quantity=='Shared' and quality=='Comb': continue\n",
    "\n",
    "        #TRAIN\n",
    "        #non perspective\n",
    "        if perspective==None:\n",
    "            model_name = f'Godel-{quality}-{quantity}'\n",
    "            model_dr = os.path.join(models_directory, model_name)\n",
    "            model_path = os.path.join(model_dr,'pytorch_model.bin')\n",
    "            if not os.path.exists(model_path):\n",
    "                print('TRAIN')\n",
    "                print(model_name)\n",
    "                !python model_main.py --mode train --quality $quality --quantity $quantity\n",
    "        \n",
    "        else:\n",
    "        #perspective\n",
    "            model_name = f'Godel-{quality}-Per-{quantity}'\n",
    "            model_dr = os.path.join(models_directory, model_name)\n",
    "            model_path = os.path.join(model_dr,'pytorch_model.bin')\n",
    "            if not os.path.exists(model_path):\n",
    "                print('TRAIN')\n",
    "                print(model_name)\n",
    "                !python model_main.py --mode train --quality $quality --quantity $quantity --perspective True\n",
    "\n",
    "        print()\n",
    "        print()\n",
    "        print()\n",
    "        print()\n",
    "        print()\n",
    "        #EVALUATE\n",
    "        #non perspective\n",
    "        if perspective==None:\n",
    "            preds_name = f'Godel-{quality}-{quantity}_preds'\n",
    "            preds_path = os.path.join(data_dir, f'predictions/{preds_name}')\n",
    "            if not os.path.exists(preds_path):\n",
    "                print('EVALUATE')\n",
    "                print(model_name)\n",
    "                !python model_main.py --mode evaluate --quality $quality --quantity $quantity\n",
    "        else:\n",
    "        #perspective\n",
    "            preds_name = f'Godel-{quality}-Per-{quantity}_preds'\n",
    "            preds_path = os.path.join(data_dir, f'predictions/{preds_name}')\n",
    "            if not os.path.exists(preds_path):\n",
    "                print('EVALUATE')\n",
    "                print(model_name)\n",
    "                !python model_main.py --mode evaluate --quality $quality --quantity $quantity --perspective True\n",
    "        \n",
    "        print()\n",
    "        print()\n",
    "        print()\n",
    "        print()\n",
    "        print()"
   ]
  },
  {
   "cell_type": "code",
   "execution_count": null,
   "metadata": {},
   "outputs": [],
   "source": [
    "#UN\n",
    "run('Un',perspective=None)\n",
    "run('Un', perspective=True)"
   ]
  },
  {
   "cell_type": "code",
   "execution_count": null,
   "metadata": {},
   "outputs": [],
   "source": [
    "#STR\n",
    "run('Str',perspective=None)\n",
    "run('Str', perspective=True)"
   ]
  },
  {
   "cell_type": "code",
   "execution_count": null,
   "metadata": {},
   "outputs": [],
   "source": [
    "#COMB\n",
    "run('Comb',perspective=None)\n",
    "run('Comb', perspective=True)"
   ]
  }
 ],
 "metadata": {
  "kernelspec": {
   "display_name": "thesis-all-and-graphs",
   "language": "python",
   "name": "python3"
  },
  "language_info": {
   "codemirror_mode": {
    "name": "ipython",
    "version": 3
   },
   "file_extension": ".py",
   "mimetype": "text/x-python",
   "name": "python",
   "nbconvert_exporter": "python",
   "pygments_lexer": "ipython3",
   "version": "3.8.16"
  }
 },
 "nbformat": 4,
 "nbformat_minor": 2
}
